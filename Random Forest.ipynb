
# 📥 Data Collection
import pandas as pd
dataset = pd.read_csv('50_Startups.csv')  # Load dataset

# 🧹 Data Preprocessing
# Convert categorical 'State' column into dummy variables and drop the first to avoid multicollinearity
dataset = pd.get_dummies(dataset, drop_first=True)

# 🔀 Input / Output Split
X = dataset[['R&D Spend', 'Administration', 'Marketing Spend', 'State_Florida', 'State_New York']]
y = dataset['Profit']

# 🔀 Input / Output Split
X = dataset[['R&D Spend', 'Administration', 'Marketing Spend', 'State_Florida', 'State_New York']]
y = dataset['Profit']

# 📊 Split Train and Test
from sklearn.model_selection import train_test_split
X_train, X_test, y_train, y_test = train_test_split(X, y, test_size=0.3, random_state=0)

# 🏗️ Model Creation (Random Forest Regressor)
from sklearn.ensemble import RandomForestRegressor
regressor = RandomForestRegressor(random_state=0)

# 🏋️ Train Model
regressor.fit(X_train, y_train)

# 🧪 Test Set Prediction
y_pred = regressor.predict(X_test)

# 📈 Evaluation Metrics
from sklearn.metrics import r2_score
r_squared = r2_score(y_test, y_pred)
print("R-squared:", r_squared)  # Closer to 1 means better model

# 💾 Save the Best Model
import pickle
filename = 'RandomForest_Model.pkl'
pickle.dump(regressor, open(filename, 'wb'))
