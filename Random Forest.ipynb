{
 "cells": [
  {
   "cell_type": "code",
   "execution_count": 6,
   "id": "aecf5004",
   "metadata": {},
   "outputs": [
    {
     "name": "stdout",
     "output_type": "stream",
     "text": [
      "R-squared: 0.9460043548938504\n",
      "Predictions: [104131.3085 134767.7027 136940.3837  79251.8251 182860.3155 115810.3632\n",
      "  69942.9352 100347.8112 114842.7638 167117.7177 101048.768   89843.4912\n",
      " 117257.0921  91658.5201 130868.7268]\n",
      "Prediction for new input: [[1.51034037e+09]]\n"
     ]
    },
    {
     "name": "stderr",
     "output_type": "stream",
     "text": [
      "c:\\Users\\Z0031XFH\\AppData\\Local\\Programs\\Python\\Python313\\Lib\\site-packages\\sklearn\\utils\\validation.py:2739: UserWarning: X does not have valid feature names, but StandardScaler was fitted with feature names\n",
      "  warnings.warn(\n",
      "c:\\Users\\Z0031XFH\\AppData\\Local\\Programs\\Python\\Python313\\Lib\\site-packages\\sklearn\\utils\\validation.py:2739: UserWarning: X does not have valid feature names, but RandomForestRegressor was fitted with feature names\n",
      "  warnings.warn(\n"
     ]
    }
   ],
   "source": [
    "# 📥 Data Collection\n",
    "import pandas as pd\n",
    "dataset = pd.read_csv('50_Startups.csv')  # Load dataset\n",
    "\n",
    "# 🧹 Data Preprocessing\n",
    "# Convert categorical 'State' column into dummy variables and drop the first to avoid multicollinearity\n",
    "dataset = pd.get_dummies(dataset, drop_first=True)\n",
    "\n",
    "# 🔀 Input / Output Split\n",
    "X = dataset[['R&D Spend', 'Administration', 'Marketing Spend', 'State_Florida', 'State_New York']]\n",
    "y = dataset['Profit']\n",
    "\n",
    "# 📊 Split Train and Test\n",
    "from sklearn.model_selection import train_test_split\n",
    "X_train, X_test, y_train, y_test = train_test_split(X, y, test_size=0.3, random_state=0)\n",
    "\n",
    "# 🏗️ Model Creation (SVM Regressor)\n",
    "from sklearn.ensemble import RandomForestRegressor\n",
    "regressor = RandomForestRegressor(n_estimators=100, random_state=0)\n",
    "\n",
    "# 🏋️ Train Model\n",
    "regressor.fit(X_train, y_train)\n",
    "\n",
    "# 🧪 Test Set Prediction\n",
    "y_pred = regressor.predict(X_test)\n",
    "\n",
    "# 📈 Evaluation Metrics\n",
    "from sklearn.metrics import r2_score\n",
    "r_squared = r2_score(y_test, y_pred)\n",
    "print(\"R-squared:\", r_squared)  # Closer to 1 means better model\n",
    "\n",
    "# 💾 Save the Best Model\n",
    "import pickle\n",
    "filename = 'RandomForest_Model.pkl'\n",
    "pickle.dump(regressor, open(filename, 'wb'))\n",
    "\n",
    "\n",
    "# 📦 Load the Saved Model\n",
    "loaded_model = pickle.load(open(filename, 'rb'))\n",
    "\n",
    "# 🧾 Get Inputs & 🔮 Predict\n",
    "# Predict on test set\n",
    "predictions = loaded_model.predict(X_test)\n",
    "print(\"Predictions:\", predictions)\n",
    "\n",
    "# Predict for a new data point\n",
    "new_data = [[160000, 130000, 300000, 0, 1]]\n",
    "new_data_scaled = loaded_sc_X.transform(new_data)\n",
    "new_prediction_scaled = loaded_model.predict(new_data_scaled)\n",
    "new_prediction = loaded_sc_y.inverse_transform(new_prediction_scaled.reshape(-1, 1))\n",
    "print(\"Prediction for new input:\", new_prediction)\n",
    "\n",
    "# 📣 Call to Action\n",
    "# These predictions can be integrated into a business dashboard or web app for decision-making."
   ]
  }
 ],
 "metadata": {
  "kernelspec": {
   "display_name": "Python 3",
   "language": "python",
   "name": "python3"
  },
  "language_info": {
   "codemirror_mode": {
    "name": "ipython",
    "version": 3
   },
   "file_extension": ".py",
   "mimetype": "text/x-python",
   "name": "python",
   "nbconvert_exporter": "python",
   "pygments_lexer": "ipython3",
   "version": "3.13.3"
  }
 },
 "nbformat": 4,
 "nbformat_minor": 5
}
