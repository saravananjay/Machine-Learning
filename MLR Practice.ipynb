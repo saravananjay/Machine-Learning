{
 "cells": [
  {
   "cell_type": "code",
   "execution_count": 28,
   "id": "1592db6b",
   "metadata": {},
   "outputs": [],
   "source": [
    "#import Pandas and Sklearn libraries\n",
    "import pandas as pd\n",
    "import sklearn as sk"
   ]
  },
  {
   "cell_type": "code",
   "execution_count": 29,
   "id": "5d1b3a0d",
   "metadata": {},
   "outputs": [],
   "source": [
    "#read the data and store in a variable 'dataset'\n",
    "dataset = pd.read_csv('50_Startups.csv')"
   ]
  },
  {
   "cell_type": "code",
   "execution_count": 30,
   "id": "77f83d6e",
   "metadata": {},
   "outputs": [],
   "source": [
    "#drop the dummy column\n",
    "dataset = pd.get_dummies(dataset, drop_first=True)"
   ]
  },
  {
   "cell_type": "code",
   "execution_count": 31,
   "id": "76b2d474",
   "metadata": {},
   "outputs": [
    {
     "data": {
      "text/plain": [
       "Index(['R&D Spend', 'Administration', 'Marketing Spend', 'Profit',\n",
       "       'State_Florida', 'State_New York'],\n",
       "      dtype='object')"
      ]
     },
     "execution_count": 31,
     "metadata": {},
     "output_type": "execute_result"
    }
   ],
   "source": [
    "#list the columns\n",
    "dataset.columns\n"
   ]
  },
  {
   "cell_type": "code",
   "execution_count": 32,
   "id": "608759f5",
   "metadata": {},
   "outputs": [],
   "source": [
    "# consider profit as dependent variable and the rest as independent variables\n",
    "X = dataset[['R&D Spend', 'Administration', 'Marketing Spend', 'State_Florida', 'State_New York']]\n",
    "y = dataset['Profit']"
   ]
  },
  {
   "cell_type": "code",
   "execution_count": 36,
   "id": "0edb7619",
   "metadata": {},
   "outputs": [],
   "source": [
    "# import the necessary libraries for model training and evaluation\n",
    "from sklearn.model_selection import train_test_split\n",
    "from sklearn.linear_model import LinearRegression\n",
    "from sklearn.metrics import mean_squared_error, r2_score\n",
    "\n"
   ]
  },
  {
   "cell_type": "code",
   "execution_count": null,
   "id": "78de852a",
   "metadata": {},
   "outputs": [],
   "source": [
    "#split the dataset into training and testing sets \n",
    "X_train, X_test, y_train, y_test = train_test_split(X, y, test_size=0.3, random_state=0)\n"
   ]
  },
  {
   "cell_type": "code",
   "execution_count": 38,
   "id": "58ca6f27",
   "metadata": {},
   "outputs": [],
   "source": [
    "# create an object 'regressor' from LinearRegression class\n",
    "regressor = LinearRegression()\n",
    "#fit the model on the training set\n",
    "regressor.fit(X_train, y_train)\n",
    "#make predictions on the test set  \n",
    "y_pred = regressor.predict(X_test)"
   ]
  },
  {
   "cell_type": "code",
   "execution_count": null,
   "id": "07518b1d",
   "metadata": {},
   "outputs": [],
   "source": [
    "# create a variable r_squared to store the R-squared value of the model\n",
    "r_squared = r2_score(y_test, y_pred)"
   ]
  },
  {
   "cell_type": "code",
   "execution_count": null,
   "id": "2a022927",
   "metadata": {},
   "outputs": [
    {
     "data": {
      "text/plain": [
       "0.9358680970046243"
      ]
     },
     "execution_count": 40,
     "metadata": {},
     "output_type": "execute_result"
    }
   ],
   "source": [
    "# Check the r_squared value if closer to 1, the model is a good fit\n",
    "r_squared"
   ]
  },
  {
   "cell_type": "code",
   "execution_count": 42,
   "id": "aa92180a",
   "metadata": {},
   "outputs": [],
   "source": [
    "# importing pickle to save the model\n",
    "import pickle\n",
    "filename='MLR Practice.pkl'\n",
    "# open a file in write-binary mode and save the model\n",
    "pickle.dump(regressor, open(filename, 'wb'))"
   ]
  },
  {
   "cell_type": "code",
   "execution_count": 44,
   "id": "8449ac84",
   "metadata": {},
   "outputs": [
    {
     "name": "stdout",
     "output_type": "stream",
     "text": [
      "Predictions: [104282.76472172 132536.88499212 133910.85007766  72584.77489417\n",
      " 179920.9276189  114549.31079234  66444.43261346  98404.96840122\n",
      " 114499.82808602 169367.50639895  96522.6253998   88040.6718287\n",
      " 110949.99405525  90419.1897851  128020.46250064]\n",
      "Coefficients: [7.90840255e-01 3.01968165e-02 3.10148566e-02 4.63028992e+02\n",
      " 3.04799573e+02]\n",
      "Intercept: 42403.87087052793\n",
      "R-squared: 0.9358680970046243\n"
     ]
    }
   ],
   "source": [
    "# load the model from the file\n",
    "pickle.load(open(filename, 'rb'))\n",
    "# make predictions using the loaded model\n",
    "loaded_model = pickle.load(open(filename, 'rb'))\n",
    "loaded_model.predict(X_test)\n",
    "# print the predictions\n",
    "print(\"Predictions:\", loaded_model.predict(X_test))\n",
    "# print the coefficients of the model\n",
    "print(\"Coefficients:\", regressor.coef_)\n",
    "# print the intercept of the model\n",
    "print(\"Intercept:\", regressor.intercept_)\n",
    "# print the R-squared value\n",
    "print(\"R-squared:\", r_squared)"
   ]
  },
  {
   "cell_type": "code",
   "execution_count": 45,
   "id": "254ec424",
   "metadata": {},
   "outputs": [
    {
     "name": "stderr",
     "output_type": "stream",
     "text": [
      "c:\\Users\\Z0031XFH\\AppData\\Local\\Programs\\Python\\Python313\\Lib\\site-packages\\sklearn\\utils\\validation.py:2739: UserWarning: X does not have valid feature names, but LinearRegression was fitted with feature names\n",
      "  warnings.warn(\n"
     ]
    },
    {
     "data": {
      "text/plain": [
       "array([182473.15435292])"
      ]
     },
     "execution_count": 45,
     "metadata": {},
     "output_type": "execute_result"
    }
   ],
   "source": [
    "loaded_model.predict([[160000, 130000, 300000, 0, 1]])\n",
    "# make a prediction for a new data point"
   ]
  },
  {
   "cell_type": "code",
   "execution_count": null,
   "id": "a270746a",
   "metadata": {},
   "outputs": [],
   "source": []
  }
 ],
 "metadata": {
  "kernelspec": {
   "display_name": "Python 3",
   "language": "python",
   "name": "python3"
  },
  "language_info": {
   "codemirror_mode": {
    "name": "ipython",
    "version": 3
   },
   "file_extension": ".py",
   "mimetype": "text/x-python",
   "name": "python",
   "nbconvert_exporter": "python",
   "pygments_lexer": "ipython3",
   "version": "3.13.3"
  }
 },
 "nbformat": 4,
 "nbformat_minor": 5
}
