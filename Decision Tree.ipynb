{
 "cells": [
  {
   "cell_type": "code",
   "execution_count": 15,
   "id": "254c170e",
   "metadata": {},
   "outputs": [
    {
     "name": "stdout",
     "output_type": "stream",
     "text": [
      "R-squared: 0.9087310670610367\n",
      "Predictions: [101004.64 141585.52 141585.52  78239.91 182901.99 118474.03  71498.49\n",
      " 101004.64 118474.03 182901.99  89949.14  89949.14 126992.93  89949.14\n",
      " 125370.37]\n",
      "Prediction for new input: [192261.83]\n"
     ]
    },
    {
     "name": "stderr",
     "output_type": "stream",
     "text": [
      "c:\\Users\\Z0031XFH\\AppData\\Local\\Programs\\Python\\Python313\\Lib\\site-packages\\sklearn\\utils\\validation.py:2739: UserWarning: X does not have valid feature names, but DecisionTreeRegressor was fitted with feature names\n",
      "  warnings.warn(\n"
     ]
    }
   ],
   "source": [
    "\n",
    "# 📥 Data Collection\n",
    "import pandas as pd\n",
    "dataset = pd.read_csv('50_Startups.csv')  # Load dataset\n",
    "\n",
    "# 🧹 Data Preprocessing\n",
    "# Convert categorical 'State' column into dummy variables and drop the first to avoid multicollinearity\n",
    "dataset = pd.get_dummies(dataset, drop_first=True)\n",
    "\n",
    "# 🔀 Input / Output Split\n",
    "X = dataset[['R&D Spend', 'Administration', 'Marketing Spend', 'State_Florida', 'State_New York']]\n",
    "y = dataset['Profit']\n",
    "\n",
    "# 📊 Split Train and Test\n",
    "from sklearn.model_selection import train_test_split\n",
    "X_train, X_test, y_train, y_test = train_test_split(X, y, test_size=0.3, random_state=0)\n",
    "\n",
    "# 🏗️ Model Creation (Decision Tree Regressor)\n",
    "from sklearn.tree import DecisionTreeRegressor\n",
    "regressor = DecisionTreeRegressor(random_state=0)\n",
    "\n",
    "# 🏋️ Train Model\n",
    "regressor.fit(X_train, y_train)\n",
    "\n",
    "# 🧪 Test Set Prediction\n",
    "y_pred = regressor.predict(X_test)\n",
    "\n",
    "# 📈 Evaluation Metrics\n",
    "from sklearn.metrics import r2_score\n",
    "r_squared = r2_score(y_test, y_pred)\n",
    "print(\"R-squared:\", r_squared)  # Closer to 1 means better model\n",
    "\n",
    "# 💾 Save the Best Model\n",
    "import pickle\n",
    "filename = 'DecisionTree_Model.pkl'\n",
    "pickle.dump(regressor, open(filename, 'wb'))\n",
    "\n",
    "\n",
    "\n",
    "# 📦 Load the Saved Model\n",
    "loaded_model = pickle.load(open(filename, 'rb'))\n",
    "\n",
    "# 🧾 Get Inputs & 🔮 Predict\n",
    "# Predict on test set\n",
    "predictions = loaded_model.predict(X_test)\n",
    "print(\"Predictions:\", predictions)\n",
    "\n",
    "# Predict for a new data point\n",
    "new_data = [[160000, 130000, 300000, 0, 1]]\n",
    "new_prediction = loaded_model.predict(new_data)\n",
    "print(\"Prediction for new input:\", new_prediction)\n",
    "\n",
    "# 📣 Call to Action\n",
    "# These predictions can be integrated into a business dashboard or web app for decision-making."
   ]
  }
 ],
 "metadata": {
  "kernelspec": {
   "display_name": "Python 3",
   "language": "python",
   "name": "python3"
  },
  "language_info": {
   "codemirror_mode": {
    "name": "ipython",
    "version": 3
   },
   "file_extension": ".py",
   "mimetype": "text/x-python",
   "name": "python",
   "nbconvert_exporter": "python",
   "pygments_lexer": "ipython3",
   "version": "3.13.3"
  }
 },
 "nbformat": 4,
 "nbformat_minor": 5
}
