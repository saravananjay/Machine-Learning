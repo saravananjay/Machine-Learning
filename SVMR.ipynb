{
 "cells": [
  {
   "cell_type": "code",
   "execution_count": null,
   "id": "a9e3db01",
   "metadata": {},
   "outputs": [
    {
     "name": "stdout",
     "output_type": "stream",
     "text": [
      "R-squared: 0.6770859937361201\n",
      "Predictions: [[107317.84346549]\n",
      " [123229.16015796]\n",
      " [133228.44937977]\n",
      " [ 87967.15730496]\n",
      " [142383.33002246]\n",
      " [121688.43746896]\n",
      " [ 81046.06771789]\n",
      " [102788.82165891]\n",
      " [122750.14441838]\n",
      " [136041.69155237]\n",
      " [101791.80044773]\n",
      " [ 92672.68669778]\n",
      " [115446.83940885]\n",
      " [100856.08034009]\n",
      " [131925.63243054]]\n",
      "Prediction for new input: [[168040.41726758]]\n"
     ]
    },
    {
     "name": "stderr",
     "output_type": "stream",
     "text": [
      "c:\\Users\\Z0031XFH\\AppData\\Local\\Programs\\Python\\Python313\\Lib\\site-packages\\sklearn\\utils\\validation.py:2739: UserWarning: X does not have valid feature names, but StandardScaler was fitted with feature names\n",
      "  warnings.warn(\n"
     ]
    }
   ],
   "source": [
    "\n",
    "# 📥 Data Collection\n",
    "import pandas as pd\n",
    "dataset = pd.read_csv('50_Startups.csv')  # Load dataset\n",
    "\n",
    "# 🧹 Data Preprocessing\n",
    "# Convert categorical 'State' column into dummy variables and drop the first to avoid multicollinearity\n",
    "dataset = pd.get_dummies(dataset, drop_first=True)\n",
    "\n",
    "# 🔀 Input / Output Split\n",
    "X = dataset[['R&D Spend', 'Administration', 'Marketing Spend', 'State_Florida', 'State_New York']]\n",
    "y = dataset['Profit']\n",
    "\n",
    "# 📊 Split Train and Test\n",
    "from sklearn.model_selection import train_test_split\n",
    "X_train, X_test, y_train, y_test = train_test_split(X, y, test_size=0.3, random_state=0)\n",
    "\n",
    "# 🏗️ Model Creation (SVM Regressor)\n",
    "from sklearn.svm import SVR\n",
    "regressor = SVR(kernel='rbf',)  # You can also try 'linear', 'poly', etc.\n",
    "\n",
    "# 🏋️ Train Model\n",
    "# SVM requires feature scaling\n",
    "from sklearn.preprocessing import StandardScaler\n",
    "sc_X = StandardScaler()\n",
    "sc_y = StandardScaler()\n",
    "\n",
    "X_train_scaled = sc_X.fit_transform(X_train)\n",
    "X_test_scaled = sc_X.transform(X_test)\n",
    "y_train_scaled = sc_y.fit_transform(y_train.values.reshape(-1, 1)).ravel()\n",
    "\n",
    "regressor.fit(X_train_scaled, y_train_scaled)\n",
    "\n",
    "# 🧪 Test Set Prediction\n",
    "y_pred_scaled = regressor.predict(X_test_scaled)\n",
    "y_pred = sc_y.inverse_transform(y_pred_scaled.reshape(-1, 1))\n",
    "\n",
    "# 📈 Evaluation Metrics\n",
    "from sklearn.metrics import r2_score\n",
    "r_squared = r2_score(y_test, y_pred)\n",
    "print(\"R-squared:\", r_squared)  # Closer to 1 means better model\n",
    "\n",
    "# 💾 Save the Best Model\n",
    "import pickle\n",
    "filename = 'SVM_Regression_Model.pkl'\n",
    "pickle.dump((regressor, sc_X, sc_y), open(filename, 'wb'))\n",
    "\n",
    "\n",
    "\n",
    "# 📦 Load the Saved Model\n",
    "loaded_model, loaded_sc_X, loaded_sc_y = pickle.load(open(filename, 'rb'))\n",
    "\n",
    "# 🧾 Get Inputs & 🔮 Predict\n",
    "# Predict on test set\n",
    "X_test_scaled = loaded_sc_X.transform(X_test)\n",
    "predictions_scaled = loaded_model.predict(X_test_scaled)\n",
    "predictions = loaded_sc_y.inverse_transform(predictions_scaled.reshape(-1, 1))\n",
    "print(\"Predictions:\", predictions)\n",
    "\n",
    "# Predict for a new data point\n",
    "new_data = [[160000, 130000, 300000, 0, 1]]\n",
    "new_data_scaled = loaded_sc_X.transform(new_data)\n",
    "new_prediction_scaled = loaded_model.predict(new_data_scaled)\n",
    "new_prediction = loaded_sc_y.inverse_transform(new_prediction_scaled.reshape(-1, 1))\n",
    "print(\"Prediction for new input:\", new_prediction)\n",
    "\n",
    "# 📣 Call to Action\n",
    "# These predictions can be integrated into a business dashboard or web app for decision-making."
   ]
  }
 ],
 "metadata": {
  "kernelspec": {
   "display_name": "Python 3",
   "language": "python",
   "name": "python3"
  },
  "language_info": {
   "codemirror_mode": {
    "name": "ipython",
    "version": 3
   },
   "file_extension": ".py",
   "mimetype": "text/x-python",
   "name": "python",
   "nbconvert_exporter": "python",
   "pygments_lexer": "ipython3",
   "version": "3.13.3"
  }
 },
 "nbformat": 4,
 "nbformat_minor": 5
}
