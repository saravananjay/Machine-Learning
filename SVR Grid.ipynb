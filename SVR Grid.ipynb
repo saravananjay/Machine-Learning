{
 "cells": [
  {
   "cell_type": "code",
   "execution_count": null,
   "id": "194a2859",
   "metadata": {},
   "outputs": [],
   "source": [
    "# Data Collection\n",
    "import pandas as pd\n",
    "dataset = pd.read_csv('insurance_pre.csv')"
   ]
  },
  {
   "cell_type": "code",
   "execution_count": null,
   "id": "94c3063d",
   "metadata": {},
   "outputs": [],
   "source": [
    "# Data Preprocessing\n",
    "dataset = pd.get_dummies(dataset, drop_first=True)\n",
    "# Display the columns of the dataset\n",
    "dataset.columns"
   ]
  },
  {
   "cell_type": "code",
   "execution_count": null,
   "id": "fa64976c",
   "metadata": {},
   "outputs": [],
   "source": [
    "X = dataset[['age', 'bmi', 'children', 'sex_male', 'smoker_yes']]\n",
    "y = dataset['charges']\n",
    "from sklearn.model_selection import train_test_split\n",
    "X_train, X_test, y_train, y_test = train_test_split(X, y, test_size=0.3, random_state=0)\n",
    "from sklearn.preprocessing import StandardScaler\n",
    "scaler = StandardScaler()\n",
    "X_train = scaler.fit_transform(X_train)\n",
    "X_test = scaler.transform(X_test)\n",
    "# Model Training\n",
    "from sklearn.model_selection import GridSearchCV\n",
    "from sklearn.svm import SVR\n",
    "parameters = {'kernel': ['linear','rbf'], 'C': [100, 1000, 2000], 'gamma': ['scale', 'auto']}\n",
    "grid = GridSearchCV(SVR(), parameters, refit = True, n_jobs=-1, verbose=3)\n",
    "grid.fit(X_train, y_train)"
   ]
  },
  {
   "cell_type": "code",
   "execution_count": null,
   "id": "0f03fe7d",
   "metadata": {},
   "outputs": [],
   "source": [
    "GridSearchCV(estimator=SVR(), n_jobs=-1,\n",
    " verbose=3,\n",
    "             param_grid={'C': [100, 1000, 2000], 'gamma': ['scale', 'auto'],\n",
    "                         'kernel': ['linear', 'rbf']})"
   ]
  },
  {
   "cell_type": "code",
   "execution_count": null,
   "id": "4b135839",
   "metadata": {},
   "outputs": [],
   "source": [
    "results = grid.cv_results_"
   ]
  },
  {
   "cell_type": "code",
   "execution_count": null,
   "id": "92bfc2d9",
   "metadata": {},
   "outputs": [],
   "source": [
    "print (\"Best parameters found: \", grid.best_params_)\n",
    "print (\"Best cross-validation score: \", grid.best_score_)"
   ]
  },
  {
   "cell_type": "code",
   "execution_count": null,
   "id": "2a79c0d9",
   "metadata": {},
   "outputs": [],
   "source": [
    "table = pd.DataFrame.from_dict(results)\n",
    "table = table[['params', 'mean_test_score', 'std_test_score', 'rank_test_score']]"
   ]
  },
  {
   "cell_type": "code",
   "execution_count": null,
   "id": "0bee9e91",
   "metadata": {},
   "outputs": [],
   "source": [
    "table"
   ]
  },
  {
   "cell_type": "code",
   "execution_count": 15,
   "id": "bbdf7190",
   "metadata": {},
   "outputs": [],
   "source": [
    "def get_float(prompt, default=0.0):\n",
    "\tval = input(prompt)\n",
    "\treturn float(val) if val.strip() else default\n",
    "\n",
    "def get_int(prompt, default=0):\n",
    "\tval = input(prompt)\n",
    "\treturn int(val) if val.strip() else default\n",
    "\n",
    "age_input = get_float(\"Age:\", 30.0)\n",
    "bmi_input = get_float(\"BMI:\", 25.0)\n",
    "children_input = get_float(\"Children:\", 0.0)\n",
    "sex_male_input = get_int(\"Sex Male 0 or 1:\", 1)\n",
    "smoker_yes_input = get_int(\"Smoker Yes 0 or 1:\", 0)"
   ]
  },
  {
   "cell_type": "code",
   "execution_count": 16,
   "id": "4d24002a",
   "metadata": {},
   "outputs": [
    {
     "name": "stdout",
     "output_type": "stream",
     "text": [
      "Future_Prediction:  [16155.90536725]\n"
     ]
    }
   ],
   "source": [
    "# Ensure grid is defined (run cell 2 if not)\n",
    "try:\n",
    "\tFuture_Prediction = grid.predict([[age_input, bmi_input, children_input, sex_male_input, smoker_yes_input]])\n",
    "\tprint(\"Future_Prediction: \", format(Future_Prediction))\n",
    "except NameError:\n",
    "\tprint(\"Error: 'grid' is not defined. Please run the cell where the model is trained (cell 2).\")"
   ]
  },
  {
   "cell_type": "code",
   "execution_count": null,
   "id": "97a541e3",
   "metadata": {},
   "outputs": [],
   "source": []
  }
 ],
 "metadata": {
  "kernelspec": {
   "display_name": "Python 3",
   "language": "python",
   "name": "python3"
  },
  "language_info": {
   "codemirror_mode": {
    "name": "ipython",
    "version": 3
   },
   "file_extension": ".py",
   "mimetype": "text/x-python",
   "name": "python",
   "nbconvert_exporter": "python",
   "pygments_lexer": "ipython3",
   "version": "3.13.3"
  }
 },
 "nbformat": 4,
 "nbformat_minor": 5
}
