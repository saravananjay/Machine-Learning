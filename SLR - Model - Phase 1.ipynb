{
 "cells": [
  {
   "cell_type": "code",
   "execution_count": null,
   "id": "829cff30",
   "metadata": {},
   "outputs": [],
   "source": [
    "# Pandas is a Python library used for data manipulation and analysis. Importing it with alias 'pd'\n",
    "import pandas as pd"
   ]
  },
  {
   "cell_type": "code",
   "execution_count": null,
   "id": "5025ce48",
   "metadata": {},
   "outputs": [],
   "source": [
    "# Creating a variable 'dataset' and reading a CSV file into it.\n",
    "#The CSV file is expected to be in the same directory as this .pynb script.\n",
    "dataset = pd.read_csv('Salary_Data.csv')"
   ]
  },
  {
   "cell_type": "code",
   "execution_count": null,
   "id": "3aa57c9b",
   "metadata": {},
   "outputs": [],
   "source": [
    "# Creating a variable 'x' and assigning it the \"YearsExperience\" column from the dataset.\n",
    "x=dataset[[\"YearsExperience\"]]"
   ]
  },
  {
   "cell_type": "code",
   "execution_count": null,
   "id": "52dbfde6",
   "metadata": {},
   "outputs": [],
   "source": [
    "# Creating a variable 'y' and assigning it the \"Salary\" column from the dataset.\n",
    "y=dataset[[\"Salary\"]]"
   ]
  },
  {
   "cell_type": "code",
   "execution_count": 76,
   "id": "cc6d9bf7",
   "metadata": {},
   "outputs": [],
   "source": [
    "# Importing the Scikit-learn library for machine learning tasks with an alias 'sk'\n",
    "import sklearn as sk"
   ]
  },
  {
   "cell_type": "code",
   "execution_count": null,
   "id": "9cf0f38e",
   "metadata": {},
   "outputs": [],
   "source": [
    "# From Scikit-learn, importing the LinearRegression class for creating a linear regression model and the train_test_split function for splitting the dataset into training and testing sets.\n",
    "from sklearn.model_selection import train_test_split\n",
    "from sklearn.linear_model import LinearRegression"
   ]
  },
  {
   "cell_type": "code",
   "execution_count": 78,
   "id": "b94b6eed",
   "metadata": {},
   "outputs": [],
   "source": [
    "# Assigning the results of the train_test_split function to the variables x_train, x_test, y_train, and y_test. \n",
    "# The function splits the dataset into training and testing sets, with 20% of the data reserved for testing. \n",
    "x_train, x_test, y_train, y_test=train_test_split(x,y,test_size=0.2,random_state=0)"
   ]
  },
  {
   "cell_type": "code",
   "execution_count": null,
   "id": "924d1994",
   "metadata": {},
   "outputs": [],
   "source": [
    "# Creating a variable 'regressor' and assigning it an instance of the LinearRegression class.\n",
    "regressor = LinearRegression()"
   ]
  },
  {
   "cell_type": "code",
   "execution_count": null,
   "id": "ec7e3c45",
   "metadata": {},
   "outputs": [],
   "source": [
    "# Using the 'fit' method of the regressor to train the model on the training data (x_train and y_train).\n",
    "# The 'predict' method is then used to make predictions on the test data (x_test) and assign to variable 'y_pred'.\n",
    "regressor.fit(x_train, y_train)\n",
    "y_pred = regressor.predict(x_test)"
   ]
  },
  {
   "cell_type": "code",
   "execution_count": null,
   "id": "dded4e65",
   "metadata": {},
   "outputs": [],
   "source": [
    "# Creating a variable 'weight' and assigning the coefficient of the regressor model\n",
    "weight=regressor.coef_"
   ]
  },
  {
   "cell_type": "code",
   "execution_count": null,
   "id": "2a0f5fff",
   "metadata": {},
   "outputs": [
    {
     "data": {
      "text/plain": [
       "array([[9360.26128619]])"
      ]
     },
     "execution_count": 104,
     "metadata": {},
     "output_type": "execute_result"
    }
   ],
   "source": [
    "# Validate the value of the variable\n",
    "weight"
   ]
  },
  {
   "cell_type": "code",
   "execution_count": null,
   "id": "7ef5f91c",
   "metadata": {},
   "outputs": [],
   "source": [
    "# Creating a variable 'bias' and assigning the intercept of the regressor model\n",
    "bias=regressor.intercept_"
   ]
  },
  {
   "cell_type": "code",
   "execution_count": null,
   "id": "aab14a25",
   "metadata": {},
   "outputs": [],
   "source": [
    "# Validate the value of the variable\n",
    "bias"
   ]
  },
  {
   "cell_type": "code",
   "execution_count": null,
   "id": "fd3dbcbb",
   "metadata": {},
   "outputs": [],
   "source": [
    "# Importing the mean_squared_error and r2_score functions from the sklearn to measure the performance of the model\n",
    "from sklearn.metrics import mean_squared_error, r2_score"
   ]
  },
  {
   "cell_type": "code",
   "execution_count": null,
   "id": "32eb7f25",
   "metadata": {},
   "outputs": [],
   "source": [
    "# Create a variable 'r_score' and assign the R-squared score\n",
    "r_score=r2_score(y_test, y_pred)"
   ]
  },
  {
   "cell_type": "code",
   "execution_count": null,
   "id": "09b0bdcc",
   "metadata": {},
   "outputs": [
    {
     "data": {
      "text/plain": [
       "0.9740993407213511"
      ]
     },
     "execution_count": 92,
     "metadata": {},
     "output_type": "execute_result"
    }
   ],
   "source": [
    "# Validate the values of the r_score.  the model is good if the r_score is close to 1\n",
    "r_score"
   ]
  },
  {
   "cell_type": "code",
   "execution_count": null,
   "id": "46ecee46",
   "metadata": {},
   "outputs": [],
   "source": [
    "# Import the pickle library to save the trained model\n",
    "import pickle"
   ]
  },
  {
   "cell_type": "code",
   "execution_count": null,
   "id": "547d9fc8",
   "metadata": {},
   "outputs": [],
   "source": [
    "# Create a variable 'filename' and assign the name of the file where the model will be saved\n",
    "filename = 'salary_model.sav'"
   ]
  },
  {
   "cell_type": "code",
   "execution_count": null,
   "id": "d03ad99e",
   "metadata": {},
   "outputs": [],
   "source": [
    "# Use the dump method of the pickle library to save the trained model regressor to a file\n",
    "# The model can be loaded later for predictions without retraining. rb is reading binary and wb is writing binary\n",
    "pickle.dump(regressor, open(filename, 'wb'))\n",
    "loaded_model = pickle.load(open(filename, 'rb'))\n",
    "# Use the loaded model to make predictions on the test data and assign to variable 'result'\n",
    "result = loaded_model.predict(x_test)"
   ]
  },
  {
   "cell_type": "code",
   "execution_count": null,
   "id": "d13afce3",
   "metadata": {},
   "outputs": [
    {
     "name": "stderr",
     "output_type": "stream",
     "text": [
      "c:\\Users\\Z0031XFH\\AppData\\Local\\Programs\\Python\\Python313\\Lib\\site-packages\\sklearn\\utils\\validation.py:2739: UserWarning: X does not have valid feature names, but LinearRegression was fitted with feature names\n",
      "  warnings.warn(\n"
     ]
    }
   ],
   "source": [
    "# Check the value of the variable for x value of 13 years of experience\n",
    "result=loaded_model.predict([[13]])"
   ]
  },
  {
   "cell_type": "code",
   "execution_count": 107,
   "id": "3b538f3f",
   "metadata": {},
   "outputs": [
    {
     "data": {
      "text/plain": [
       "array([[148460.78806172]])"
      ]
     },
     "execution_count": 107,
     "metadata": {},
     "output_type": "execute_result"
    }
   ],
   "source": [
    "# Validate the result\n",
    "result"
   ]
  },
  {
   "cell_type": "code",
   "execution_count": 109,
   "id": "a645ac94",
   "metadata": {},
   "outputs": [
    {
     "name": "stderr",
     "output_type": "stream",
     "text": [
      "c:\\Users\\Z0031XFH\\AppData\\Local\\Programs\\Python\\Python313\\Lib\\site-packages\\sklearn\\utils\\validation.py:2739: UserWarning: X does not have valid feature names, but LinearRegression was fitted with feature names\n",
      "  warnings.warn(\n"
     ]
    },
    {
     "data": {
      "text/plain": [
       "array([[26777.3913412]])"
      ]
     },
     "execution_count": 109,
     "metadata": {},
     "output_type": "execute_result"
    }
   ],
   "source": [
    "result=loaded_model.predict([[0]])\n",
    "result\n",
    "# Validate the result for 0 years of experience.  It is equal to the bias value"
   ]
  }
 ],
 "metadata": {
  "kernelspec": {
   "display_name": "Python 3",
   "language": "python",
   "name": "python3"
  },
  "language_info": {
   "codemirror_mode": {
    "name": "ipython",
    "version": 3
   },
   "file_extension": ".py",
   "mimetype": "text/x-python",
   "name": "python",
   "nbconvert_exporter": "python",
   "pygments_lexer": "ipython3",
   "version": "3.13.3"
  }
 },
 "nbformat": 4,
 "nbformat_minor": 5
}
